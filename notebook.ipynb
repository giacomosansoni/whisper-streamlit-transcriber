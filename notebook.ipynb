{
 "cells": [
  {
   "cell_type": "code",
   "execution_count": null,
   "metadata": {},
   "outputs": [
    {
     "name": "stdout",
     "output_type": "stream",
     "text": [
      "[youtube] Extracting URL: https://www.youtube.com/watch?v=Vh7iEv-IoUg&ab_channel=Datapizza\n",
      "[youtube] Vh7iEv-IoUg: Downloading webpage\n",
      "[youtube] Vh7iEv-IoUg: Downloading tv client config\n",
      "[youtube] Vh7iEv-IoUg: Downloading player 5ae7d525\n",
      "[youtube] Vh7iEv-IoUg: Downloading tv player API JSON\n",
      "[youtube] Vh7iEv-IoUg: Downloading ios player API JSON\n",
      "[youtube] Vh7iEv-IoUg: Downloading m3u8 information\n",
      "[info] Vh7iEv-IoUg: Downloading 1 format(s): 140\n",
      "[download] Destination: Vh7iEv-IoUg.m4a\n",
      "\u001b[K[download] 100% of    4.12MiB in \u001b[1;37m00:00:08\u001b[0m at \u001b[0;32m514.61KiB/s\u001b[0m33m00:00\u001b[0m\n",
      "[FixupM4a] Correcting container of \"Vh7iEv-IoUg.m4a\"\n"
     ]
    }
   ],
   "source": [
    "!yt-dlp \"https://www.youtube.com/watch?v=Vh7iEv-IoUg&ab_channel=Datapizza\" --format m4a -o \"%(id)s.%(ext)s\"\n"
   ]
  },
  {
   "cell_type": "code",
   "execution_count": 4,
   "metadata": {},
   "outputs": [
    {
     "name": "stdout",
     "output_type": "stream",
     "text": [
      "/Users/gsansoni/Documents/Study/Whisper/.venv/lib/python3.11/site-packages/whisper/transcribe.py:132: UserWarning: FP16 is not supported on CPU; using FP32 instead\n",
      "  warnings.warn(\"FP16 is not supported on CPU; using FP32 instead\")\n",
      "[00:00.000 --> 00:04.080]  In questo video parleremo di che cos'è un dottorato di ricerca o PhD e di quali\n",
      "[00:04.080 --> 00:07.160]  sono i compiti principali che vengono svolti quando porti avanti questo\n",
      "[00:07.160 --> 00:10.920]  percorso. Se è appena finita una laurea magistrale STEM è molto probabile che\n",
      "[00:10.920 --> 00:14.040]  qualche azienda ti abbia già contattato per iniziare a fare qualche colloquio\n",
      "[00:14.040 --> 00:17.080]  conoscitivo, ma in molti si chiedono se possa valere la pena di iniziare il\n",
      "[00:17.080 --> 00:20.560]  percorso del dottorato di ricerca dopo la laurea. In generale è un percorso\n",
      "[00:20.560 --> 00:24.440]  pensato per chi vuole diventare ricercatore, in ambito accademico ma anche in\n",
      "[00:24.440 --> 00:28.120]  ambito aziendale. Infatti ci sono sempre più dottorati di ricerca pensati\n",
      "[00:28.120 --> 00:31.840]  proprio dalle aziende e finanziati dalle aziende in ambito industriale. Ma cosa si\n",
      "[00:31.840 --> 00:35.120]  fa effettivamente durante un dottorato? Vediamo tre compiti principali che\n",
      "[00:35.120 --> 00:38.680]  dovrai affrontare durante questo percorso. Innanzitutto non devi pensare al\n",
      "[00:38.680 --> 00:41.680]  dottorato di ricerca come un proseguimento di una laurea. Infatti\n",
      "[00:41.680 --> 00:44.920]  durante il dottorato si studia ma in maniera completamente diversa da come\n",
      "[00:44.920 --> 00:48.240]  si fa durante una magistrale o una trenale. Puoi vedere il dottorato come un\n",
      "[00:48.240 --> 00:52.120]  tirocinio di qualche anno in Italia tipicamente tra quattro anni dove ti\n",
      "[00:52.120 --> 00:55.520]  insegno a diventare un ricercatore. Ma cosa vuol dire fare ricerca? Vuol dire\n",
      "[00:55.520 --> 00:59.680]  studiare affrontare problemi per cui non esiste ancora una soluzione. In maniera\n",
      "[00:59.680 --> 01:02.960]  un po' più pratica studiare durante il dottorato vuol dire tendenzialmente\n",
      "[01:02.960 --> 01:06.040]  leggersi una maria di paper per capire quali sono i problemi che i\n",
      "[01:06.040 --> 01:09.240]  ricercatori del tuo campo non sono ancora riusciti a risolvere. Studiare\n",
      "[01:09.240 --> 01:12.600]  potrebbe vuol dire anche leggere paper che sembrano lontani dal tuo ambito di\n",
      "[01:12.600 --> 01:16.360]  ricerca ma da cui puoi prendere spunto per trovare nuovi idee per risolvere i\n",
      "[01:16.360 --> 01:19.520]  problemi che stai affrontando durante il tuo percorso. Una volta ti viene in mente\n",
      "[01:19.520 --> 01:22.960]  un'idea per risolvere il problema che stai affrontando dovrai poi sporcarti le\n",
      "[01:22.960 --> 01:26.320]  mani. Dovrai implementare la soluzione a cui hai pensato e progettare\n",
      "[01:26.320 --> 01:30.960]  esperimenti che siano fair, cioè equi trasparenti e onesti che dimostrino che\n",
      "[01:30.960 --> 01:34.320]  la soluzione che hai pensato è migliore di tutto ciò che è stato fatto in\n",
      "[01:34.320 --> 01:37.440]  letteratura fino a quel momento. Fare ricerca è ciò che ti impegnerà più\n",
      "[01:37.440 --> 01:40.840]  tempo durante il dottorato e sinceramente anche la parte più stimolante ed\n",
      "[01:40.840 --> 01:44.200]  impegnativa da affrontare. La cosa più bella della ricerca è che quando riesce\n",
      "[01:44.200 --> 01:47.360]  a pubblicare un paper ad una conferenza internazionale dovrai anche\n",
      "[01:47.360 --> 01:50.800]  andarlo a presentare. Lo scopo è quello di condividere ciò che hai scoperto con\n",
      "[01:50.800 --> 01:54.240]  gli altri ricercatori. Questo ti permetterà di girare un po' il mondo ma anche di\n",
      "[01:54.240 --> 01:58.160]  conoscere ricercatori che sono super sul pezzo con cui puoi scambere idee o\n",
      "[01:58.160 --> 02:01.080]  semplicemente berte una birra fino all'etra del mattino. In parallelo la\n",
      "[02:01.080 --> 02:04.720]  ricerca avrai anche altri compiti a cui pensare. Effettivamente avrai dei corsi\n",
      "[02:04.720 --> 02:08.720]  da seguire, ma fai conto che dovrai acquisire solo qualcosa come 12 credit in\n",
      "[02:08.720 --> 02:12.960]  tre anni. Sono corsi molto molto brevi di poche ore. Sono corsi tenuti da esperti\n",
      "[02:12.960 --> 02:16.400]  che ti spiegano l'ultime scoperte che sono state fatte in specifici ambiti\n",
      "[02:16.400 --> 02:19.920]  applicativi. Tendenzialmente l'esame consiste in un approfondimento oppure\n",
      "[02:20.000 --> 02:23.400]  nell'implementazione di queste tecniche nel tuo specifico ambito di ricerca\n",
      "[02:23.400 --> 02:27.040]  e per l'esame non riceverai neanche una votazione. Spesso lo scopo di questi\n",
      "[02:27.040 --> 02:30.720]  corsi è farti scoprire tecniche a cui non avevi mai pensato perché sembrano\n",
      "[02:30.720 --> 02:34.160]  lontane dal tuo ambito di ricerca, ma questo è fondamentale per farti venire\n",
      "[02:34.160 --> 02:38.080]  idee che porteranno magari poi a nuove pubblicazioni. Oltre a questi corsi un\n",
      "[02:38.080 --> 02:41.440]  po' più specifici ci sono corsi generici che non hanno neanche un esame\n",
      "[02:41.440 --> 02:45.080]  finale. Questi corsi sono al di fuori dei 12 crediti di cui tu ho parlato prima e\n",
      "[02:45.080 --> 02:48.920]  sono seguiti dei dottorandi di qualsiasi ambito, sia umanistico che scientifico.\n",
      "[02:48.920 --> 02:52.280]  Questi corsi servono ad esempio a insegnarti come fare ricerche in maniera\n",
      "[02:52.280 --> 02:56.440]  equa oppure come cercare lavoro con un dottorato in mano. Un terzo compito che\n",
      "[02:56.440 --> 02:59.440]  mi ha insegnato molto durante il dottorato è stato quello di gestire\n",
      "[02:59.440 --> 03:02.520]  le attività quotidiane del mio laboratorio di ricerca. Avrai diversi\n",
      "[03:02.520 --> 03:06.440]  tesisti da seguire, dovrai pianificare il loro percorso di tesi e aiutarli a\n",
      "[03:06.440 --> 03:10.520]  portarlo a termine anche psicologicamente. Questa parte non è per niente banale ma\n",
      "[03:10.520 --> 03:14.200]  ti insegnerà moltissime skills che ti torneranno utili in futuro per gestire\n",
      "[03:14.200 --> 03:17.520]  un team di persone che lavora insieme a te. Abbiamo visto quindi tre compiti\n",
      "[03:17.520 --> 03:21.200]  principali che molto probabilmente farai durante il tuo dottorato di ricerca ma\n",
      "[03:21.200 --> 03:24.680]  potrebbe esserci anche altro ovviamente. Ad esempio io ho gestito la parte del\n",
      "[03:24.680 --> 03:28.120]  laboratorio di due corsi della laurea magistrale della mia università in un\n",
      "[03:28.120 --> 03:31.400]  caso dovuto proprio progettare le elezioni partendo da zero. Nel altro\n",
      "[03:31.400 --> 03:35.640]  caso ho tenuto le elezioni e gestito gli esami orali per gli studenti dando anche\n",
      "[03:35.640 --> 03:39.200]  un voto per la parte del laboratorio. Ma so che altri dottorandi hanno ad esempio\n",
      "[03:39.200 --> 03:42.480]  aiutato il proprio laboratorio a organizzare workshop per conferenze\n",
      "[03:42.480 --> 03:45.680]  internazionali quindi questa è un'altra cosa che potrebbe capitarti di fare.\n",
      "[03:45.680 --> 03:48.840]  Spero che ora ti sia un po più chiaro cosa si fa durante un dottorato di\n",
      "[03:48.840 --> 03:52.160]  ricerca. Cosa più importante che devi fare è capire se questo percorso si\n",
      "[03:52.160 --> 03:55.640]  sposa bene con le tue ambizioni e con ciò che ti piace fare. Non devi fare\n",
      "[03:55.640 --> 03:58.480]  un dottorato solo perché pensi che questo ti permetterà di avere un\n",
      "[03:58.480 --> 04:01.760]  curriculum migliore o che ti permetterà di guadagnare di più in futuro e\n",
      "[04:01.760 --> 04:05.280]  ricordati anche che una volta ottenuto il dottorato non sarai vincolato a fare\n",
      "[04:05.280 --> 04:08.960]  ricerca accademica. Ci sono sempre più dottorandi che mi erano poi andrà a fare\n",
      "[04:08.960 --> 04:12.720]  ricerca in azienda e in effetti ci sono anche sempre più dottorati in ambito\n",
      "[04:12.720 --> 04:16.040]  industriale finanziati dalle aziende stesse. Tieni conto però che se vuoi\n",
      "[04:16.040 --> 04:19.560]  rimanere in Italia è difficile nel nostro paese trovare aziende che sono\n",
      "[04:19.560 --> 04:22.480]  pronte a investire nella ricerca ma potrai comunque trovare qualcosa di\n",
      "[04:22.480 --> 04:26.360]  interessante all'estero dove invece il PhD è tenuto molto in considerazione dalle\n",
      "[04:26.360 --> 04:28.680]  aziende.\n"
     ]
    }
   ],
   "source": [
    "!whisper \"Vh7iEv-IoUg.m4a\" --model small --language Italian"
   ]
  },
  {
   "cell_type": "code",
   "execution_count": 5,
   "metadata": {},
   "outputs": [
    {
     "name": "stdout",
     "output_type": "stream",
     "text": [
      "[youtube] Extracting URL: https://www.youtube.com/watch?v=Vh7iEv-IoUg\n",
      "[youtube] Vh7iEv-IoUg: Downloading webpage\n",
      "[youtube] Vh7iEv-IoUg: Downloading tv client config\n",
      "[youtube] Vh7iEv-IoUg: Downloading player 5ae7d525\n",
      "[youtube] Vh7iEv-IoUg: Downloading tv player API JSON\n",
      "[youtube] Vh7iEv-IoUg: Downloading ios player API JSON\n",
      "[youtube] Vh7iEv-IoUg: Downloading m3u8 information\n",
      "[info] Vh7iEv-IoUg: Downloading 1 format(s): 140\n",
      "[download] Destination: audio.m4a\n",
      "[download] 100% of    4.12MiB in 00:00:02 at 1.94MiB/s   \n",
      "[FixupM4a] Correcting container of \"audio.m4a\"\n",
      "[ExtractAudio] Not converting audio audio.m4a; file is already in target format m4a\n"
     ]
    }
   ],
   "source": [
    "import yt_dlp\n",
    "\n",
    "def download_audio(url, output_filename=\"audio.m4a\"):\n",
    "    ydl_opts = {\n",
    "        'format': 'm4a/bestaudio',  # Get the best audio in M4A format\n",
    "        'outtmpl': output_filename,  # Set output filename\n",
    "        'postprocessors': [{\n",
    "            'key': 'FFmpegExtractAudio',\n",
    "            'preferredcodec': 'm4a',\n",
    "        }],\n",
    "    }\n",
    "\n",
    "    with yt_dlp.YoutubeDL(ydl_opts) as ydl:\n",
    "        ydl.download([url])\n",
    "\n",
    "# Example usage\n",
    "download_audio(\"https://www.youtube.com/watch?v=Vh7iEv-IoUg\")"
   ]
  },
  {
   "cell_type": "code",
   "execution_count": 8,
   "metadata": {},
   "outputs": [
    {
     "name": "stderr",
     "output_type": "stream",
     "text": [
      "/Users/gsansoni/Documents/Study/Whisper/.venv/lib/python3.11/site-packages/whisper/transcribe.py:132: UserWarning: FP16 is not supported on CPU; using FP32 instead\n",
      "  warnings.warn(\"FP16 is not supported on CPU; using FP32 instead\")\n"
     ]
    },
    {
     "name": "stdout",
     "output_type": "stream",
     "text": [
      " Ciao ragazzi, e benvenuti alla nostra concreta albo. Angin ha recentemente fatto un live stream solo rispondendo alcune delle nostre domande. E dopo un po' di minuti in, c'era qualcuno che ha chiesto Angin se ero interessato a invadere Brian Shaw, che sia come competitori o solo come guest, era East vs West. E qui era Angin's rispondenza. Vasili, Angin, pensate di invadere Brian Shaw di East vs West come competitori o guest? Sì, questo è stato un po' di lavoro per me, come se fosse avvolto. E allora, è una buona notizia per tutti noi. Allora, ci dovranno aspettare. Brian ha già messo tutto che bisogna. Il frame, la stessa strada, la supporta da tutti noi. Il paese, l'opportunità e il fuoco dentro di lui. E la cosa che è ancora messa per ora, come lui e Devon siano messi, è il momento di approfondire le tecniche e condizionare le specifiche. Sottotitoli e revisione a cura di QTSS.\n"
     ]
    }
   ],
   "source": [
    "import whisper\n",
    "\n",
    "def transcribe_audio(audio_file, model_size=\"small\", language=\"it\"):\n",
    "    model = whisper.load_model(model_size)  # Load the Whisper model\n",
    "    result = model.transcribe(audio_file, language=language)  # Transcribe\n",
    "    return result[\"text\"]\n",
    "\n",
    "# Example usage\n",
    "transcription = transcribe_audio(\"audio.m4a\")\n",
    "print(transcription)"
   ]
  },
  {
   "cell_type": "code",
   "execution_count": null,
   "metadata": {},
   "outputs": [],
   "source": []
  }
 ],
 "metadata": {
  "kernelspec": {
   "display_name": ".venv",
   "language": "python",
   "name": "python3"
  },
  "language_info": {
   "codemirror_mode": {
    "name": "ipython",
    "version": 3
   },
   "file_extension": ".py",
   "mimetype": "text/x-python",
   "name": "python",
   "nbconvert_exporter": "python",
   "pygments_lexer": "ipython3",
   "version": "3.11.11"
  }
 },
 "nbformat": 4,
 "nbformat_minor": 2
}
